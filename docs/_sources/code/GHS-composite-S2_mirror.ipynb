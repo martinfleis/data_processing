{
 "cells": [
  {
   "cell_type": "markdown",
   "metadata": {},
   "source": [
    "# Mirror GHS-composite-S2\n",
    "\n",
    "This section covers mirroring locally the UK section of the cloud-free composite Sentinel-2 mosaic created by the European Commission. Official website is over at:\n",
    "\n",
    "> https://ghsl.jrc.ec.europa.eu/ghs_s2composite.php\n",
    "\n",
    "And paper for the dataset is:\n",
    "\n",
    "> Corbane, C., Politis, P., Kempeneers, P., Simonetti, D., Soille, P., Burger, A., ... & Kemper, T. (2020). [A global cloud free pixel-based image composite from Sentinel-2 data](https://www.sciencedirect.com/science/article/pii/S2352340920306314). *Data in Brief*, 105737."
   ]
  },
  {
   "cell_type": "code",
   "execution_count": 1,
   "metadata": {},
   "outputs": [],
   "source": [
    "import sys\n",
    "sys.path.insert(0, \"../\")\n",
    "import utils\n",
    "import geopandas\n",
    "from dask import dataframe as dd\n",
    "from dask.system import cpu_count"
   ]
  },
  {
   "cell_type": "markdown",
   "metadata": {},
   "source": [
    "## Set up\n",
    "\n",
    "Before accessing and downloading each GeoTIFF, let's set up the target folder:"
   ]
  },
  {
   "cell_type": "code",
   "execution_count": 2,
   "metadata": {},
   "outputs": [],
   "source": [
    "local_dir = \"../../data/\""
   ]
  },
  {
   "cell_type": "markdown",
   "metadata": {},
   "source": [
    "The set of UTM tiles we require for GB are the following:"
   ]
  },
  {
   "cell_type": "code",
   "execution_count": 3,
   "metadata": {},
   "outputs": [],
   "source": [
    "gb_utm_tiles = [\"30U\", \"31U\", \"29V\", \"30V\"]"
   ]
  },
  {
   "cell_type": "markdown",
   "metadata": {},
   "source": [
    "The metadata for the grid of tiles and their URLs is available as a GeoJSON. We read the file and exclude every tile that does not cover GB:"
   ]
  },
  {
   "cell_type": "code",
   "execution_count": 4,
   "metadata": {},
   "outputs": [],
   "source": [
    "meta_p = \"GHS-composite-S2.geojson\"\n",
    "meta = geopandas.read_file(meta_p)\n",
    "meta = meta[meta[\"UTMtile\"].isin(gb_utm_tiles)]"
   ]
  },
  {
   "cell_type": "markdown",
   "metadata": {},
   "source": [
    "## Download scenes\n",
    "\n",
    "All of the scenes will be stored in the same folder (`local_dir`) in the OSGB 1936 British National Grid ([`EPSG:EPSG:27700`](http://epsg.io/27700)). This aligns with the rest of data in the project and will also allow setting up a single virtual raster (see next section)."
   ]
  },
  {
   "cell_type": "markdown",
   "metadata": {},
   "source": [
    "### Generate a column with target file"
   ]
  },
  {
   "cell_type": "code",
   "execution_count": 5,
   "metadata": {},
   "outputs": [],
   "source": [
    "meta[\"dst_path\"] = meta[\"URL\"].apply(lambda x: local_dir+x.split(\"/\")[-1])"
   ]
  },
  {
   "cell_type": "markdown",
   "metadata": {},
   "source": [
    "### Parallel download/reprojection\n",
    "\n",
    "In parallel:\n",
    "- Download each file on its each location\n",
    "- Reproject to OSGB grid"
   ]
  },
  {
   "cell_type": "code",
   "execution_count": 6,
   "metadata": {
    "collapsed": true,
    "jupyter": {
     "outputs_hidden": true
    }
   },
   "outputs": [
    {
     "name": "stdout",
     "output_type": "stream",
     "text": [
      "30/10/2020 08:04:19 | Working on Tile 29V - File: S2_percentile_UTM_148-0000069888-0000023296.tif\n",
      "30/10/2020 08:04:19 | Working on Tile 29V - File: S2_percentile_UTM_148-0000023296-0000023296.tif\n",
      "30/10/2020 08:04:19 | Working on Tile 29V - File: S2_percentile_UTM_148-0000046592-0000023296.tif\n",
      "30/10/2020 08:04:19 | Working on Tile 29V - File: S2_percentile_UTM_148-0000000000-0000023296.tif\n",
      "\tTarget file available locally, skipping...\n",
      "30/10/2020 08:04:19 | Working on Tile 29V - File: S2_percentile_UTM_148-0000000000-0000000000.tif\n",
      "Replace is False and data exists, so doing nothing. Use replace=True to re-download the data.\n",
      "\t30/10/2020 08:04:19 | rio warp ../../data/S2_percentile_UTM_148-0000000000-0000000000.tif ../../data/S2_percentile_UTM_148-0000000000-0000000000_osgb.tif --dst-crs EPSG:27700\n",
      "30/10/2020 08:04:19 | Working on Tile 30U - File: S2_percentile_UTM_209-0000069888-0000023296.tif\n",
      "Replace is False and data exists, so doing nothing. Use replace=True to re-download the data.\n",
      "\t30/10/2020 08:04:19 | rio warp ../../data/S2_percentile_UTM_148-0000046592-0000023296.tif ../../data/S2_percentile_UTM_148-0000046592-0000023296_osgb.tif --dst-crs EPSG:2770030/10/2020 08:04:19 | Working on Tile 30U - File: S2_percentile_UTM_209-0000046592-0000023296.tif\n",
      "\n",
      "Replace is False and data exists, so doing nothing. Use replace=True to re-download the data.\n",
      "\t30/10/2020 08:04:19 | rio warp ../../data/S2_percentile_UTM_148-0000023296-0000023296.tif ../../data/S2_percentile_UTM_148-0000023296-0000023296_osgb.tif --dst-crs EPSG:27700\n",
      "30/10/2020 08:04:19 | Working on Tile 30U - File: S2_percentile_UTM_209-0000023296-0000023296.tif\n",
      "Replace is False and data exists, so doing nothing. Use replace=True to re-download the data.\n",
      "\t30/10/2020 08:04:19 | rio warp ../../data/S2_percentile_UTM_209-0000023296-0000023296.tif ../../data/S2_percentile_UTM_209-0000023296-0000023296_osgb.tif --dst-crs EPSG:27700\n",
      "Replace is False and data exists, so doing nothing. Use replace=True to re-download the data.\n",
      "\t30/10/2020 08:04:19 | rio warp ../../data/S2_percentile_UTM_209-0000069888-0000023296.tif ../../data/S2_percentile_UTM_209-0000069888-0000023296_osgb.tif --dst-crs EPSG:27700\n",
      "30/10/2020 08:04:19 | Working on Tile 30U - File: S2_percentile_UTM_209-0000000000-0000023296.tif\n",
      "Replace is False and data exists, so doing nothing. Use replace=True to re-download the data.30/10/2020 08:04:19 | Working on Tile 30V - File: S2_percentile_UTM_149-0000069888-0000023296.tif\n",
      "\n",
      "30/10/2020 08:04:19 | Working on Tile 30V - File: S2_percentile_UTM_149-0000046592-0000023296.tif\n",
      "30/10/2020 08:04:19 | Working on Tile 30V - File: S2_percentile_UTM_149-0000023296-0000023296.tif\n",
      "30/10/2020 08:04:19 | Working on Tile 30V - File: S2_percentile_UTM_149-0000000000-0000023296.tif\n",
      "\t30/10/2020 08:04:19 | rio warp ../../data/S2_percentile_UTM_209-0000000000-0000023296.tif ../../data/S2_percentile_UTM_209-0000000000-0000023296_osgb.tif --dst-crs EPSG:27700\n",
      "30/10/2020 08:04:19 | Working on Tile 31U - File: S2_percentile_UTM_210-0000069888-0000023296.tif\n",
      "30/10/2020 08:04:19 | Working on Tile 31U - File: S2_percentile_UTM_210-0000046592-0000023296.tif\n",
      "30/10/2020 08:04:19 | Working on Tile 31U - File: S2_percentile_UTM_210-0000023296-0000023296.tif\n",
      "30/10/2020 08:04:19 | Working on Tile 31U - File: S2_percentile_UTM_210-0000000000-0000023296.tif\n",
      "Replace is False and data exists, so doing nothing. Use replace=True to re-download the data.\n",
      "\t30/10/2020 08:04:19 | rio warp ../../data/S2_percentile_UTM_148-0000069888-0000023296.tif ../../data/S2_percentile_UTM_148-0000069888-0000023296_osgb.tif --dst-crs EPSG:27700\n",
      "Replace is False and data exists, so doing nothing. Use replace=True to re-download the data.\n",
      "\t30/10/2020 08:04:19 | rio warp ../../data/S2_percentile_UTM_209-0000046592-0000023296.tif ../../data/S2_percentile_UTM_209-0000046592-0000023296_osgb.tif --dst-crs EPSG:27700\n",
      "Replace is False and data exists, so doing nothing. Use replace=True to re-download the data.\n",
      "\t30/10/2020 08:04:19 | rio warp ../../data/S2_percentile_UTM_149-0000046592-0000023296.tif ../../data/S2_percentile_UTM_149-0000046592-0000023296_osgb.tif --dst-crs EPSG:27700\n",
      "Replace is False and data exists, so doing nothing. Use replace=True to re-download the data.\n",
      "\t30/10/2020 08:04:19 | rio warp ../../data/S2_percentile_UTM_149-0000023296-0000023296.tif ../../data/S2_percentile_UTM_149-0000023296-0000023296_osgb.tif --dst-crs EPSG:27700\n",
      "Replace is False and data exists, so doing nothing. Use replace=True to re-download the data.\n",
      "\t30/10/2020 08:04:19 | rio warp ../../data/S2_percentile_UTM_210-0000069888-0000023296.tif ../../data/S2_percentile_UTM_210-0000069888-0000023296_osgb.tif --dst-crs EPSG:27700\n",
      "Replace is False and data exists, so doing nothing. Use replace=True to re-download the data.\n",
      "\t30/10/2020 08:04:19 | rio warp ../../data/S2_percentile_UTM_149-0000069888-0000023296.tif ../../data/S2_percentile_UTM_149-0000069888-0000023296_osgb.tif --dst-crs EPSG:27700\n",
      "Replace is False and data exists, so doing nothing. Use replace=True to re-download the data.\n",
      "\t30/10/2020 08:04:19 | rio warp ../../data/S2_percentile_UTM_210-0000023296-0000023296.tif ../../data/S2_percentile_UTM_210-0000023296-0000023296_osgb.tif --dst-crs EPSG:27700\n",
      "Replace is False and data exists, so doing nothing. Use replace=True to re-download the data.\n",
      "\t30/10/2020 08:04:19 | rio warp ../../data/S2_percentile_UTM_149-0000000000-0000023296.tif ../../data/S2_percentile_UTM_149-0000000000-0000023296_osgb.tif --dst-crs EPSG:27700\n",
      "Replace is False and data exists, so doing nothing. Use replace=True to re-download the data.\n",
      "\t30/10/2020 08:04:19 | rio warp ../../data/S2_percentile_UTM_210-0000046592-0000023296.tif ../../data/S2_percentile_UTM_210-0000046592-0000023296_osgb.tif --dst-crs EPSG:27700\n",
      "Replace is False and data exists, so doing nothing. Use replace=True to re-download the data.\n",
      "\t30/10/2020 08:04:19 | rio warp ../../data/S2_percentile_UTM_210-0000000000-0000023296.tif ../../data/S2_percentile_UTM_210-0000000000-0000023296_osgb.tif --dst-crs EPSG:27700\n",
      "\t30/10/2020 08:08:57 | rm ../../data/S2_percentile_UTM_149-0000000000-0000023296.tif\n",
      "30/10/2020 08:08:57 | Working on Tile 30V - File: S2_percentile_UTM_149-0000000000-0000000000.tif\n",
      "Downloading data from http://jeodpp.jrc.ec.europa.eu/ftp/jrc-opendata/GHSL/GHS_composite_S2_L1C_2017-2018_GLOBE_R2020A/GHS_composite_S2_L1C_2017-2018_GLOBE_R2020A_UTM_10/V1-0/30V/S2_percentile_UTM_149-0000000000-0000000000.tif (678.9 MB)\n",
      "\n",
      "\t30/10/2020 08:09:37 | rm ../../data/S2_percentile_UTM_148-0000000000-0000000000.tif\n",
      "\t30/10/2020 08:09:42 | rm ../../data/S2_percentile_UTM_148-0000069888-0000023296.tif\n",
      "30/10/2020 08:09:42 | Working on Tile 29V - File: S2_percentile_UTM_148-0000069888-0000000000.tif\n",
      "Downloading data from http://jeodpp.jrc.ec.europa.eu/ftp/jrc-opendata/GHSL/GHS_composite_S2_L1C_2017-2018_GLOBE_R2020A/GHS_composite_S2_L1C_2017-2018_GLOBE_R2020A_UTM_10/V1-0/29V/S2_percentile_UTM_148-0000069888-0000000000.tif (1.76 GB)\n",
      "\n",
      "\t30/10/2020 08:09:44 | rm ../../data/S2_percentile_UTM_149-0000023296-0000023296.tif\n",
      "30/10/2020 08:09:44 | Working on Tile 30V - File: S2_percentile_UTM_149-0000023296-0000000000.tif\n",
      "Downloading data from http://jeodpp.jrc.ec.europa.eu/ftp/jrc-opendata/GHSL/GHS_composite_S2_L1C_2017-2018_GLOBE_R2020A/GHS_composite_S2_L1C_2017-2018_GLOBE_R2020A_UTM_10/V1-0/30V/S2_percentile_UTM_149-0000023296-0000000000.tif (1.86 GB)\n",
      "\n",
      "\t30/10/2020 08:09:50 | rm ../../data/S2_percentile_UTM_149-0000069888-0000023296.tif\n",
      "30/10/2020 08:09:50 | Working on Tile 30V - File: S2_percentile_UTM_149-0000069888-0000000000.tif\n",
      "Downloading data from http://jeodpp.jrc.ec.europa.eu/ftp/jrc-opendata/GHSL/GHS_composite_S2_L1C_2017-2018_GLOBE_R2020A/GHS_composite_S2_L1C_2017-2018_GLOBE_R2020A_UTM_10/V1-0/30V/S2_percentile_UTM_149-0000069888-0000000000.tif (2.38 GB)\n",
      "\n",
      "\t30/10/2020 08:09:51 | rm ../../data/S2_percentile_UTM_148-0000023296-0000023296.tif\n",
      "30/10/2020 08:09:51 | Working on Tile 29V - File: S2_percentile_UTM_148-0000023296-0000000000.tif\n",
      "Downloading data from http://jeodpp.jrc.ec.europa.eu/ftp/jrc-opendata/GHSL/GHS_composite_S2_L1C_2017-2018_GLOBE_R2020A/GHS_composite_S2_L1C_2017-2018_GLOBE_R2020A_UTM_10/V1-0/29V/S2_percentile_UTM_148-0000023296-0000000000.tif (1.47 GB)\n",
      "\n",
      "\t30/10/2020 08:10:11 | rm ../../data/S2_percentile_UTM_148-0000046592-0000023296.tif\n",
      "30/10/2020 08:10:12 | Working on Tile 29V - File: S2_percentile_UTM_148-0000046592-0000000000.tif\n",
      "Downloading data from http://jeodpp.jrc.ec.europa.eu/ftp/jrc-opendata/GHSL/GHS_composite_S2_L1C_2017-2018_GLOBE_R2020A/GHS_composite_S2_L1C_2017-2018_GLOBE_R2020A_UTM_10/V1-0/29V/S2_percentile_UTM_148-0000046592-0000000000.tif (2.05 GB)\n",
      "\n",
      "\t30/10/2020 08:10:20 | rm ../../data/S2_percentile_UTM_210-0000069888-0000023296.tif\n",
      "30/10/2020 08:10:21 | Working on Tile 31U - File: S2_percentile_UTM_210-0000069888-0000000000.tif\n",
      "Downloading data from http://jeodpp.jrc.ec.europa.eu/ftp/jrc-opendata/GHSL/GHS_composite_S2_L1C_2017-2018_GLOBE_R2020A/GHS_composite_S2_L1C_2017-2018_GLOBE_R2020A_UTM_10/V1-0/31U/S2_percentile_UTM_210-0000069888-0000000000.tif (2.49 GB)\n",
      "\n",
      "\t30/10/2020 08:10:24 | rm ../../data/S2_percentile_UTM_149-0000046592-0000023296.tif\n",
      "30/10/2020 08:10:24 | Working on Tile 30V - File: S2_percentile_UTM_149-0000046592-0000000000.tif\n",
      "Downloading data from http://jeodpp.jrc.ec.europa.eu/ftp/jrc-opendata/GHSL/GHS_composite_S2_L1C_2017-2018_GLOBE_R2020A/GHS_composite_S2_L1C_2017-2018_GLOBE_R2020A_UTM_10/V1-0/30V/S2_percentile_UTM_149-0000046592-0000000000.tif (2.11 GB)\n",
      "\n",
      "\t30/10/2020 08:10:54 | rm ../../data/S2_percentile_UTM_209-0000069888-0000023296.tif\n",
      "30/10/2020 08:10:54 | Working on Tile 30U - File: S2_percentile_UTM_209-0000069888-0000000000.tif\n",
      "Downloading data from http://jeodpp.jrc.ec.europa.eu/ftp/jrc-opendata/GHSL/GHS_composite_S2_L1C_2017-2018_GLOBE_R2020A/GHS_composite_S2_L1C_2017-2018_GLOBE_R2020A_UTM_10/V1-0/30U/S2_percentile_UTM_209-0000069888-0000000000.tif (1.82 GB)\n",
      "\n",
      "\t30/10/2020 08:11:05 | rm ../../data/S2_percentile_UTM_209-0000023296-0000023296.tif\n",
      "30/10/2020 08:11:05 | Working on Tile 30U - File: S2_percentile_UTM_209-0000023296-0000000000.tif\n",
      "Downloading data from http://jeodpp.jrc.ec.europa.eu/ftp/jrc-opendata/GHSL/GHS_composite_S2_L1C_2017-2018_GLOBE_R2020A/GHS_composite_S2_L1C_2017-2018_GLOBE_R2020A_UTM_10/V1-0/30U/S2_percentile_UTM_209-0000023296-0000000000.tif (2.16 GB)\n",
      "\n",
      "\t30/10/2020 08:11:08 | rm ../../data/S2_percentile_UTM_210-0000046592-0000023296.tif\n",
      "30/10/2020 08:11:08 | Working on Tile 31U - File: S2_percentile_UTM_210-0000046592-0000000000.tif\n",
      "Downloading data from http://jeodpp.jrc.ec.europa.eu/ftp/jrc-opendata/GHSL/GHS_composite_S2_L1C_2017-2018_GLOBE_R2020A/GHS_composite_S2_L1C_2017-2018_GLOBE_R2020A_UTM_10/V1-0/31U/S2_percentile_UTM_210-0000046592-0000000000.tif (2.40 GB)\n",
      "\n",
      "\t30/10/2020 08:11:50 | rm ../../data/S2_percentile_UTM_209-0000000000-0000023296.tif\n",
      "30/10/2020 08:11:50 | Working on Tile 30U - File: S2_percentile_UTM_209-0000000000-0000000000.tif\n",
      "Downloading data from http://jeodpp.jrc.ec.europa.eu/ftp/jrc-opendata/GHSL/GHS_composite_S2_L1C_2017-2018_GLOBE_R2020A/GHS_composite_S2_L1C_2017-2018_GLOBE_R2020A_UTM_10/V1-0/30U/S2_percentile_UTM_209-0000000000-0000000000.tif (2.18 GB)\n",
      "\n",
      "\t30/10/2020 08:12:02 | rm ../../data/S2_percentile_UTM_209-0000046592-0000023296.tif\n",
      "30/10/2020 08:12:02 | Working on Tile 30U - File: S2_percentile_UTM_209-0000046592-0000000000.tif\n",
      "Downloading data from http://jeodpp.jrc.ec.europa.eu/ftp/jrc-opendata/GHSL/GHS_composite_S2_L1C_2017-2018_GLOBE_R2020A/GHS_composite_S2_L1C_2017-2018_GLOBE_R2020A_UTM_10/V1-0/30U/S2_percentile_UTM_209-0000046592-0000000000.tif (2.22 GB)\n",
      "\n",
      "\t30/10/2020 08:12:04 | rm ../../data/S2_percentile_UTM_210-0000023296-0000023296.tif\n",
      "30/10/2020 08:12:04 | Working on Tile 31U - File: S2_percentile_UTM_210-0000023296-0000000000.tif\n",
      "Downloading data from http://jeodpp.jrc.ec.europa.eu/ftp/jrc-opendata/GHSL/GHS_composite_S2_L1C_2017-2018_GLOBE_R2020A/GHS_composite_S2_L1C_2017-2018_GLOBE_R2020A_UTM_10/V1-0/31U/S2_percentile_UTM_210-0000023296-0000000000.tif (2.12 GB)\n",
      "\n",
      "\t30/10/2020 08:13:15 | rm ../../data/S2_percentile_UTM_210-0000000000-0000023296.tif\n",
      "30/10/2020 08:13:15 | Working on Tile 31U - File: S2_percentile_UTM_210-0000000000-0000000000.tif\n",
      "Downloading data from http://jeodpp.jrc.ec.europa.eu/ftp/jrc-opendata/GHSL/GHS_composite_S2_L1C_2017-2018_GLOBE_R2020A/GHS_composite_S2_L1C_2017-2018_GLOBE_R2020A_UTM_10/V1-0/31U/S2_percentile_UTM_210-0000000000-0000000000.tif (1.65 GB)\n",
      "\n",
      "Successfully downloaded file to ../../data/S2_percentile_UTM_149-0000000000-0000000000.tif\n",
      "\t30/10/2020 09:04:36 | rio warp ../../data/S2_percentile_UTM_149-0000000000-0000000000.tif ../../data/S2_percentile_UTM_149-0000000000-0000000000_osgb.tif --dst-crs EPSG:27700\n",
      "\t30/10/2020 09:07:02 | rm ../../data/S2_percentile_UTM_149-0000000000-0000000000.tif\n",
      "Successfully downloaded file to ../../data/S2_percentile_UTM_148-0000023296-0000000000.tif\n",
      "\t30/10/2020 10:21:39 | rio warp ../../data/S2_percentile_UTM_148-0000023296-0000000000.tif ../../data/S2_percentile_UTM_148-0000023296-0000000000_osgb.tif --dst-crs EPSG:27700\n",
      "\t30/10/2020 10:25:31 | rm ../../data/S2_percentile_UTM_148-0000023296-0000000000.tif\n",
      "Successfully downloaded file to ../../data/S2_percentile_UTM_209-0000069888-0000000000.tif\n",
      "\t30/10/2020 10:54:59 | rio warp ../../data/S2_percentile_UTM_209-0000069888-0000000000.tif ../../data/S2_percentile_UTM_209-0000069888-0000000000_osgb.tif --dst-crs EPSG:27700\n",
      "\t30/10/2020 10:59:50 | rm ../../data/S2_percentile_UTM_209-0000069888-0000000000.tif\n",
      "Successfully downloaded file to ../../data/S2_percentile_UTM_149-0000046592-0000000000.tif\n",
      "\t30/10/2020 11:04:45 | rio warp ../../data/S2_percentile_UTM_149-0000046592-0000000000.tif ../../data/S2_percentile_UTM_149-0000046592-0000000000_osgb.tif --dst-crs EPSG:27700\n",
      "Successfully downloaded file to ../../data/S2_percentile_UTM_210-0000000000-0000000000.tif\n",
      "\t30/10/2020 11:06:51 | rio warp ../../data/S2_percentile_UTM_210-0000000000-0000000000.tif ../../data/S2_percentile_UTM_210-0000000000-0000000000_osgb.tif --dst-crs EPSG:27700\n",
      "\t30/10/2020 11:10:28 | rm ../../data/S2_percentile_UTM_149-0000046592-0000000000.tif\n",
      "Successfully downloaded file to ../../data/S2_percentile_UTM_149-0000023296-0000000000.tif\n",
      "\t30/10/2020 11:11:52 | rio warp ../../data/S2_percentile_UTM_149-0000023296-0000000000.tif ../../data/S2_percentile_UTM_149-0000023296-0000000000_osgb.tif --dst-crs EPSG:27700\n",
      "\t30/10/2020 11:12:42 | rm ../../data/S2_percentile_UTM_210-0000000000-0000000000.tif\n",
      "Successfully downloaded file to ../../data/S2_percentile_UTM_210-0000046592-0000000000.tif\n",
      "\t30/10/2020 11:13:25 | rio warp ../../data/S2_percentile_UTM_210-0000046592-0000000000.tif ../../data/S2_percentile_UTM_210-0000046592-0000000000_osgb.tif --dst-crs EPSG:27700\n",
      "Successfully downloaded file to ../../data/S2_percentile_UTM_209-0000046592-0000000000.tif\n",
      "\t30/10/2020 11:16:44 | rio warp ../../data/S2_percentile_UTM_209-0000046592-0000000000.tif ../../data/S2_percentile_UTM_209-0000046592-0000000000_osgb.tif --dst-crs EPSG:27700\n",
      "\t30/10/2020 11:17:44 | rm ../../data/S2_percentile_UTM_149-0000023296-0000000000.tif\n",
      "\t30/10/2020 11:18:53 | rm ../../data/S2_percentile_UTM_210-0000046592-0000000000.tif\n",
      "\t30/10/2020 11:22:10 | rm ../../data/S2_percentile_UTM_209-0000046592-0000000000.tif\n",
      "Successfully downloaded file to ../../data/S2_percentile_UTM_148-0000046592-0000000000.tif\n",
      "\t30/10/2020 11:27:29 | rio warp ../../data/S2_percentile_UTM_148-0000046592-0000000000.tif ../../data/S2_percentile_UTM_148-0000046592-0000000000_osgb.tif --dst-crs EPSG:27700\n",
      "Successfully downloaded file to ../../data/S2_percentile_UTM_210-0000023296-0000000000.tif\n",
      "\t30/10/2020 11:32:09 | rio warp ../../data/S2_percentile_UTM_210-0000023296-0000000000.tif ../../data/S2_percentile_UTM_210-0000023296-0000000000_osgb.tif --dst-crs EPSG:27700\n",
      "Successfully downloaded file to ../../data/S2_percentile_UTM_209-0000000000-0000000000.tif\n",
      "\t30/10/2020 11:33:05 | rio warp ../../data/S2_percentile_UTM_209-0000000000-0000000000.tif ../../data/S2_percentile_UTM_209-0000000000-0000000000_osgb.tif --dst-crs EPSG:27700\n",
      "\t30/10/2020 11:33:11 | rm ../../data/S2_percentile_UTM_148-0000046592-0000000000.tif\n",
      "Successfully downloaded file to ../../data/S2_percentile_UTM_148-0000069888-0000000000.tif\n",
      "\t30/10/2020 11:33:55 | rio warp ../../data/S2_percentile_UTM_148-0000069888-0000000000.tif ../../data/S2_percentile_UTM_148-0000069888-0000000000_osgb.tif --dst-crs EPSG:27700\n",
      "\t30/10/2020 11:37:38 | rm ../../data/S2_percentile_UTM_210-0000023296-0000000000.tif\n",
      "Successfully downloaded file to ../../data/S2_percentile_UTM_210-0000069888-0000000000.tif\n",
      "\t30/10/2020 11:38:02 | rio warp ../../data/S2_percentile_UTM_210-0000069888-0000000000.tif ../../data/S2_percentile_UTM_210-0000069888-0000000000_osgb.tif --dst-crs EPSG:27700\n",
      "\t30/10/2020 11:38:04 | rm ../../data/S2_percentile_UTM_209-0000000000-0000000000.tif\n",
      "\t30/10/2020 11:39:15 | rm ../../data/S2_percentile_UTM_148-0000069888-0000000000.tif\n",
      "Successfully downloaded file to ../../data/S2_percentile_UTM_209-0000023296-0000000000.tif\n",
      "\t30/10/2020 11:41:32 | rio warp ../../data/S2_percentile_UTM_209-0000023296-0000000000.tif ../../data/S2_percentile_UTM_209-0000023296-0000000000_osgb.tif --dst-crs EPSG:27700\n",
      "\t30/10/2020 11:42:00 | rm ../../data/S2_percentile_UTM_210-0000069888-0000000000.tif\n",
      "Successfully downloaded file to ../../data/S2_percentile_UTM_149-0000069888-0000000000.tif\n",
      "\t30/10/2020 11:43:02 | rio warp ../../data/S2_percentile_UTM_149-0000069888-0000000000.tif ../../data/S2_percentile_UTM_149-0000069888-0000000000_osgb.tif --dst-crs EPSG:27700\n",
      "\t30/10/2020 11:46:42 | rm ../../data/S2_percentile_UTM_209-0000023296-0000000000.tif\n",
      "\t30/10/2020 11:47:00 | rm ../../data/S2_percentile_UTM_149-0000069888-0000000000.tif\n"
     ]
    }
   ],
   "source": [
    "# Ship `meta` to Dask\n",
    "dmeta = dd.from_pandas(meta[[\"dst_path\", \"UTMtile\", \"URL\"]],\n",
    "                       npartitions=cpu_count()\n",
    "                      )\n",
    "# Apply in parallel\n",
    "dout = dmeta.apply(utils.download_reproject, \n",
    "                   axis=1,\n",
    "                   meta=(\"Output\", None),\n",
    "                   progressbar=False\n",
    "                  ).compute()"
   ]
  },
  {
   "cell_type": "markdown",
   "metadata": {},
   "source": [
    "## Create a master `.vrt` file"
   ]
  },
  {
   "cell_type": "code",
   "execution_count": null,
   "metadata": {},
   "outputs": [],
   "source": [
    "! gdalbuildvrt $local_dir\"GHS-composite-S2.vrt\" $local_dir\"S2_percentile_UTM_*.tif\""
   ]
  }
 ],
 "metadata": {
  "kernelspec": {
   "display_name": "Python 3",
   "language": "python",
   "name": "python3"
  },
  "language_info": {
   "codemirror_mode": {
    "name": "ipython",
    "version": 3
   },
   "file_extension": ".py",
   "mimetype": "text/x-python",
   "name": "python",
   "nbconvert_exporter": "python",
   "pygments_lexer": "ipython3",
   "version": "3.7.8"
  }
 },
 "nbformat": 4,
 "nbformat_minor": 4
}
