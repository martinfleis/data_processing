{
 "cells": [
  {
   "cell_type": "markdown",
   "metadata": {},
   "source": [
    "# Mirror GHS-composite-S2\n",
    "\n",
    "This section covers mirroring locally the UK section of the cloud-free composite Sentinel-2 mosaic created by the European Commission. Official website is over at:\n",
    "\n",
    "> https://ghsl.jrc.ec.europa.eu/ghs_s2composite.php\n",
    "\n",
    "And paper for the dataset is:\n",
    "\n",
    "> Corbane, C., Politis, P., Kempeneers, P., Simonetti, D., Soille, P., Burger, A., ... & Kemper, T. (2020). [A global cloud free pixel-based image composite from Sentinel-2 data](https://www.sciencedirect.com/science/article/pii/S2352340920306314). *Data in Brief*, 105737."
   ]
  },
  {
   "cell_type": "code",
   "execution_count": 1,
   "metadata": {},
   "outputs": [],
   "source": [
    "import sys\n",
    "sys.path.insert(0, \"../\")\n",
    "import utils\n",
    "import geopandas\n",
    "from dask import dataframe as dd\n",
    "from dask.system import cpu_count"
   ]
  },
  {
   "cell_type": "markdown",
   "metadata": {},
   "source": [
    "## Set up\n",
    "\n",
    "Before accessing and downloading each GeoTIFF, let's set up the target folder:"
   ]
  },
  {
   "cell_type": "code",
   "execution_count": 2,
   "metadata": {},
   "outputs": [],
   "source": [
    "local_dir = \"../../data/\""
   ]
  },
  {
   "cell_type": "markdown",
   "metadata": {},
   "source": [
    "The set of UTM tiles we require for GB are the following:"
   ]
  },
  {
   "cell_type": "code",
   "execution_count": 3,
   "metadata": {},
   "outputs": [],
   "source": [
    "gb_utm_tiles = [\"30U\", \"31U\", \"29V\", \"30V\"]"
   ]
  },
  {
   "cell_type": "markdown",
   "metadata": {},
   "source": [
    "The metadata for the grid of tiles and their URLs is available as a GeoJSON. We read the file and exclude every tile that does not cover GB:"
   ]
  },
  {
   "cell_type": "code",
   "execution_count": 4,
   "metadata": {},
   "outputs": [],
   "source": [
    "meta_p = \"GHS-composite-S2.geojson\"\n",
    "meta = geopandas.read_file(meta_p)\n",
    "meta = meta[meta[\"UTMtile\"].isin(gb_utm_tiles)]"
   ]
  },
  {
   "cell_type": "markdown",
   "metadata": {},
   "source": [
    "## Download scenes\n",
    "\n",
    "All of the scenes will be stored in the same folder (`local_dir`) in the OSGB 1936 British National Grid ([`EPSG:EPSG:27700`](http://epsg.io/27700)). This aligns with the rest of data in the project and will also allow setting up a single virtual raster (see next section)."
   ]
  },
  {
   "cell_type": "markdown",
   "metadata": {},
   "source": [
    "### Generate a column with target file"
   ]
  },
  {
   "cell_type": "code",
   "execution_count": 5,
   "metadata": {},
   "outputs": [],
   "source": [
    "meta[\"dst_path\"] = meta[\"URL\"].apply(lambda x: local_dir+x.split(\"/\")[-1])"
   ]
  },
  {
   "cell_type": "markdown",
   "metadata": {},
   "source": [
    "### Parallel download/reprojection\n",
    "\n",
    "In parallel:\n",
    "- Download each file on its each location\n",
    "- Reproject to OSGB grid"
   ]
  },
  {
   "cell_type": "code",
   "execution_count": 6,
   "metadata": {},
   "outputs": [
    {
     "name": "stdout",
     "output_type": "stream",
     "text": [
      "05/11/2020 22:09:54 | Working on Tile 29V - File: S2_percentile_UTM_148-0000069888-0000023296.tif\n",
      "Replace is False and data exists, so doing nothing. Use replace=True to re-download the data.\n",
      "\tReprojected file available locally, skipping reprojection...\n",
      "05/11/2020 22:09:54 | Working on Tile 30U - File: S2_percentile_UTM_209-0000023296-0000023296.tif\n",
      "05/11/2020 22:09:54 | Working on Tile 29V - File: S2_percentile_UTM_148-0000023296-0000023296.tif\n",
      "Replace is False and data exists, so doing nothing. Use replace=True to re-download the data.\n",
      "\tReprojected file available locally, skipping reprojection...\n",
      "05/11/2020 22:09:54 | Working on Tile 30V - File: S2_percentile_UTM_149-0000069888-0000023296.tif\n",
      "Replace is False and data exists, so doing nothing. Use replace=True to re-download the data.\n",
      "\tReprojected file available locally, skipping reprojection...Replace is False and data exists, so doing nothing. Use replace=True to re-download the data.\n",
      "\tReprojected file available locally, skipping reprojection...\n",
      "\tSplit-opt.\n",
      "\tSplit-opt.\n",
      "05/11/2020 22:09:54 | Working on Tile 30U - File: S2_percentile_UTM_209-0000069888-0000023296.tif\n",
      "Replace is False and data exists, so doing nothing. Use replace=True to re-download the data.\n",
      "\tReprojected file available locally, skipping reprojection...\n",
      "\tSplit-opt.\n",
      "05/11/2020 22:09:54 | Working on Tile 30V - File: S2_percentile_UTM_149-0000023296-0000023296.tif\n",
      "\tSplit-opt.\n",
      "Replace is False and data exists, so doing nothing. Use replace=True to re-download the data.05/11/2020 22:09:54 | Working on Tile 31U - File: S2_percentile_UTM_210-0000069888-0000023296.tif\n",
      "\n",
      "\tReprojected file available locally, skipping reprojection...\n",
      "05/11/2020 22:09:54 | Working on Tile 31U - File: S2_percentile_UTM_210-0000023296-0000023296.tif\n",
      "\n",
      "\tSplit-opt.\n",
      "\tSplit-opt.\n",
      "Replace is False and data exists, so doing nothing. Use replace=True to re-download the data.\n",
      "Replace is False and data exists, so doing nothing. Use replace=True to re-download the data.\n",
      "\tReprojected file available locally, skipping reprojection...\n",
      "\tReprojected file available locally, skipping reprojection...\n",
      "\tSplit-opt.\tSplit-opt.\n",
      "\n",
      "\t\t05/11/2020 22:10:34 | Optimising S2_percentile_UTM_149-0000069888-0000023296_wm_R.tif\n",
      "\t\t05/11/2020 22:10:52 | Optimising S2_percentile_UTM_149-0000023296-0000023296_wm_R.tif\n",
      "\t\t05/11/2020 22:10:54 | Optimising S2_percentile_UTM_148-0000069888-0000023296_wm_R.tif\n",
      "\t\t05/11/2020 22:10:56 | Optimising S2_percentile_UTM_148-0000023296-0000023296_wm_R.tif\n",
      "\t\t05/11/2020 22:11:19 | Optimising S2_percentile_UTM_209-0000069888-0000023296_wm_R.tif\n",
      "\t\t05/11/2020 22:11:25 | Optimising S2_percentile_UTM_210-0000069888-0000023296_wm_R.tif\n",
      "\t\t05/11/2020 22:11:29 | Optimising S2_percentile_UTM_210-0000023296-0000023296_wm_R.tif\n",
      "\t\t05/11/2020 22:11:31 | Optimising S2_percentile_UTM_149-0000069888-0000023296_wm_G.tif\n",
      "\t\t05/11/2020 22:11:47 | Optimising S2_percentile_UTM_209-0000023296-0000023296_wm_R.tif\n"
     ]
    },
    {
     "name": "stderr",
     "output_type": "stream",
     "text": [
      "/opt/conda/lib/python3.8/site-packages/rasterio/io.py:133: NotGeoreferencedWarning: Dataset has no geotransform set. The identity matrix may be returned.\n",
      "  return writer(mempath, 'w+', driver=driver, width=width,\n"
     ]
    },
    {
     "name": "stdout",
     "output_type": "stream",
     "text": [
      "\t\t05/11/2020 22:11:50 | Optimising S2_percentile_UTM_148-0000069888-0000023296_wm_G.tif\n",
      "\t\t05/11/2020 22:12:23 | Optimising S2_percentile_UTM_148-0000023296-0000023296_wm_G.tif\n",
      "\t\t05/11/2020 22:12:24 | Optimising S2_percentile_UTM_149-0000023296-0000023296_wm_G.tif\n",
      "\t\t05/11/2020 22:12:43 | Optimising S2_percentile_UTM_209-0000069888-0000023296_wm_G.tif\n"
     ]
    },
    {
     "name": "stderr",
     "output_type": "stream",
     "text": [
      "/opt/conda/lib/python3.8/site-packages/rasterio/io.py:133: NotGeoreferencedWarning: Dataset has no geotransform set. The identity matrix may be returned.\n",
      "  return writer(mempath, 'w+', driver=driver, width=width,\n"
     ]
    },
    {
     "name": "stdout",
     "output_type": "stream",
     "text": [
      "\t\t05/11/2020 22:12:53 | Optimising S2_percentile_UTM_149-0000069888-0000023296_wm_B.tif\n",
      "\t\t05/11/2020 22:12:53 | Optimising S2_percentile_UTM_210-0000069888-0000023296_wm_G.tif\n",
      "\t\t05/11/2020 22:13:21 | Optimising S2_percentile_UTM_148-0000069888-0000023296_wm_B.tif\n",
      "\t\t05/11/2020 22:13:39 | Optimising S2_percentile_UTM_210-0000023296-0000023296_wm_G.tif\n",
      "\t\t05/11/2020 22:13:57 | Optimising S2_percentile_UTM_149-0000023296-0000023296_wm_B.tif\n",
      "\t\t05/11/2020 22:14:01 | Optimising S2_percentile_UTM_148-0000023296-0000023296_wm_B.tif\n",
      "\t\t05/11/2020 22:14:03 | Optimising S2_percentile_UTM_209-0000023296-0000023296_wm_G.tif\n",
      "\t\t05/11/2020 22:14:05 | Optimising S2_percentile_UTM_149-0000069888-0000023296_wm_I.tif\n",
      "\t\t05/11/2020 22:14:39 | Optimising S2_percentile_UTM_148-0000069888-0000023296_wm_I.tif\n",
      "\t\t05/11/2020 22:14:50 | Optimising S2_percentile_UTM_210-0000069888-0000023296_wm_B.tif\n",
      "\t\t05/11/2020 22:14:50 | Optimising S2_percentile_UTM_209-0000069888-0000023296_wm_B.tif\n",
      "\t\t05/11/2020 22:15:17 | Optimising S2_percentile_UTM_149-0000023296-0000023296_wm_I.tif\n",
      "05/11/2020 22:15:23 | Working on Tile 30V - File: S2_percentile_UTM_149-0000069888-0000000000.tif\n",
      "Replace is False and data exists, so doing nothing. Use replace=True to re-download the data.\n",
      "\tReprojected file available locally, skipping reprojection...\n",
      "\tSplit-opt.\n",
      "\t\t05/11/2020 22:15:37 | Optimising S2_percentile_UTM_148-0000023296-0000023296_wm_I.tif\n",
      "\t\t05/11/2020 22:15:59 | Optimising S2_percentile_UTM_210-0000023296-0000023296_wm_B.tif\n",
      "05/11/2020 22:16:03 | Working on Tile 29V - File: S2_percentile_UTM_148-0000069888-0000000000.tif\n",
      "Replace is False and data exists, so doing nothing. Use replace=True to re-download the data.\n",
      "\tReprojected file available locally, skipping reprojection...\n",
      "\tSplit-opt.\n",
      "\t\t05/11/2020 22:16:07 | Optimising S2_percentile_UTM_209-0000023296-0000023296_wm_B.tif\n",
      "\t\t05/11/2020 22:16:39 | Optimising S2_percentile_UTM_209-0000069888-0000023296_wm_I.tif\n",
      "\t\t05/11/2020 22:16:39 | Optimising S2_percentile_UTM_210-0000069888-0000023296_wm_I.tif\n",
      "05/11/2020 22:16:39 | Working on Tile 30V - File: S2_percentile_UTM_149-0000023296-0000000000.tif\n",
      "Replace is False and data exists, so doing nothing. Use replace=True to re-download the data.\n",
      "\tReprojected file available locally, skipping reprojection...\n",
      "\tSplit-opt.\n",
      "\t\t05/11/2020 22:17:00 | Optimising S2_percentile_UTM_149-0000069888-0000000000_wm_R.tif\n",
      "05/11/2020 22:17:01 | Working on Tile 29V - File: S2_percentile_UTM_148-0000023296-0000000000.tif\n",
      "Replace is False and data exists, so doing nothing. Use replace=True to re-download the data.\n",
      "\tReprojected file available locally, skipping reprojection...\n",
      "\tSplit-opt.\n",
      "\t\t05/11/2020 22:17:37 | Optimising S2_percentile_UTM_209-0000023296-0000023296_wm_I.tif\n",
      "\t\t05/11/2020 22:17:42 | Optimising S2_percentile_UTM_210-0000023296-0000023296_wm_I.tif\n",
      "\t\t05/11/2020 22:17:51 | Optimising S2_percentile_UTM_148-0000069888-0000000000_wm_R.tif\n",
      "05/11/2020 22:17:55 | Working on Tile 31U - File: S2_percentile_UTM_210-0000069888-0000000000.tif\n",
      "Replace is False and data exists, so doing nothing. Use replace=True to re-download the data.\n",
      "\tReprojected file available locally, skipping reprojection...\n",
      "\tSplit-opt.\n",
      "05/11/2020 22:18:07 | Working on Tile 30U - File: S2_percentile_UTM_209-0000069888-0000000000.tif\n",
      "Replace is False and data exists, so doing nothing. Use replace=True to re-download the data.\n",
      "\tReprojected file available locally, skipping reprojection...\n",
      "\tSplit-opt.\n",
      "\t\t05/11/2020 22:18:31 | Optimising S2_percentile_UTM_149-0000023296-0000000000_wm_R.tif\n",
      "\t\t05/11/2020 22:18:32 | Optimising S2_percentile_UTM_149-0000069888-0000000000_wm_G.tif\n",
      "05/11/2020 22:18:47 | Working on Tile 30U - File: S2_percentile_UTM_209-0000023296-0000000000.tif\n",
      "Replace is False and data exists, so doing nothing. Use replace=True to re-download the data.\n",
      "\tReprojected file available locally, skipping reprojection...\n",
      "\tSplit-opt.\n",
      "\t\t05/11/2020 22:18:54 | Optimising S2_percentile_UTM_148-0000023296-0000000000_wm_R.tif\n",
      "\t\t05/11/2020 22:19:39 | Optimising S2_percentile_UTM_209-0000069888-0000000000_wm_R.tif\n",
      "05/11/2020 22:19:40 | Working on Tile 31U - File: S2_percentile_UTM_210-0000023296-0000000000.tif\n",
      "Replace is False and data exists, so doing nothing. Use replace=True to re-download the data.\n",
      "\tReprojected file available locally, skipping reprojection...\n",
      "\tSplit-opt.\n",
      "\t\t05/11/2020 22:19:56 | Optimising S2_percentile_UTM_210-0000069888-0000000000_wm_R.tif\n",
      "\t\t05/11/2020 22:20:26 | Optimising S2_percentile_UTM_148-0000069888-0000000000_wm_G.tif\n",
      "\t\t05/11/2020 22:20:35 | Optimising S2_percentile_UTM_209-0000023296-0000000000_wm_R.tif\n",
      "\t\t05/11/2020 22:20:47 | Optimising S2_percentile_UTM_149-0000069888-0000000000_wm_B.tif\n",
      "\t\t05/11/2020 22:21:07 | Optimising S2_percentile_UTM_149-0000023296-0000000000_wm_G.tif\n",
      "\t\t05/11/2020 22:21:21 | Optimising S2_percentile_UTM_148-0000023296-0000000000_wm_G.tif\n",
      "\t\t05/11/2020 22:21:22 | Optimising S2_percentile_UTM_210-0000069888-0000000000_wm_G.tif\n",
      "\t\t05/11/2020 22:21:37 | Optimising S2_percentile_UTM_210-0000023296-0000000000_wm_R.tif\n",
      "\t\t05/11/2020 22:21:37 | Optimising S2_percentile_UTM_209-0000069888-0000000000_wm_G.tif\n",
      "\t\t05/11/2020 22:22:20 | Optimising S2_percentile_UTM_209-0000023296-0000000000_wm_G.tif\n",
      "\t\t05/11/2020 22:22:41 | Optimising S2_percentile_UTM_149-0000069888-0000000000_wm_I.tif\n",
      "\t\t05/11/2020 22:22:48 | Optimising S2_percentile_UTM_148-0000069888-0000000000_wm_B.tif\n",
      "\t\t05/11/2020 22:23:36 | Optimising S2_percentile_UTM_149-0000023296-0000000000_wm_B.tif\n",
      "\t\t05/11/2020 22:23:54 | Optimising S2_percentile_UTM_210-0000023296-0000000000_wm_G.tif\n",
      "\t\t05/11/2020 22:23:55 | Optimising S2_percentile_UTM_210-0000069888-0000000000_wm_B.tif\n",
      "05/11/2020 22:24:03 | Working on Tile 30V - File: S2_percentile_UTM_149-0000046592-0000023296.tif\n",
      "Replace is False and data exists, so doing nothing. Use replace=True to re-download the data.\n",
      "\tReprojected file available locally, skipping reprojection...\n",
      "\tSplit-opt.\n",
      "\t\t05/11/2020 22:24:19 | Optimising S2_percentile_UTM_209-0000069888-0000000000_wm_B.tif\n",
      "\t\t05/11/2020 22:24:43 | Optimising S2_percentile_UTM_148-0000023296-0000000000_wm_B.tif\n",
      "\t\t05/11/2020 22:24:55 | Optimising S2_percentile_UTM_149-0000046592-0000023296_wm_R.tif\n",
      "\t\t05/11/2020 22:25:14 | Optimising S2_percentile_UTM_209-0000023296-0000000000_wm_B.tif\n",
      "\t\t05/11/2020 22:25:14 | Optimising S2_percentile_UTM_148-0000069888-0000000000_wm_I.tif\n",
      "\t\t05/11/2020 22:25:55 | Optimising S2_percentile_UTM_210-0000069888-0000000000_wm_I.tif\n",
      "\t\t05/11/2020 22:26:24 | Optimising S2_percentile_UTM_149-0000023296-0000000000_wm_I.tif\n",
      "\t\t05/11/2020 22:26:34 | Optimising S2_percentile_UTM_149-0000046592-0000023296_wm_G.tif\n",
      "\t\t05/11/2020 22:26:34 | Optimising S2_percentile_UTM_210-0000023296-0000000000_wm_B.tif\n",
      "\t\t05/11/2020 22:27:04 | Optimising S2_percentile_UTM_209-0000069888-0000000000_wm_I.tif\n",
      "\t\t05/11/2020 22:27:04 | Optimising S2_percentile_UTM_148-0000023296-0000000000_wm_I.tif\n",
      "05/11/2020 22:27:42 | Working on Tile 31U - File: S2_percentile_UTM_210-0000046592-0000023296.tif\n",
      "Replace is False and data exists, so doing nothing. Use replace=True to re-download the data.\n",
      "\tReprojected file available locally, skipping reprojection...\n",
      "\tSplit-opt.\n",
      "05/11/2020 22:27:52 | Working on Tile 29V - File: S2_percentile_UTM_148-0000046592-0000023296.tif\n",
      "Replace is False and data exists, so doing nothing. Use replace=True to re-download the data.\n",
      "\tReprojected file available locally, skipping reprojection...\n",
      "\tSplit-opt.\n",
      "\t\t05/11/2020 22:28:08 | Optimising S2_percentile_UTM_209-0000023296-0000000000_wm_I.tif\n",
      "\t\t05/11/2020 22:28:14 | Optimising S2_percentile_UTM_149-0000046592-0000023296_wm_B.tif\n",
      "05/11/2020 22:28:38 | Working on Tile 30V - File: S2_percentile_UTM_149-0000000000-0000023296.tif\n",
      "Replace is False and data exists, so doing nothing. Use replace=True to re-download the data.\n",
      "\tReprojected file available locally, skipping reprojection...\n",
      "\tSplit-opt.\n",
      "\t\t05/11/2020 22:28:54 | Optimising S2_percentile_UTM_148-0000046592-0000023296_wm_R.tif\n",
      "05/11/2020 22:29:10 | Working on Tile 30U - File: S2_percentile_UTM_209-0000046592-0000023296.tif\n",
      "Replace is False and data exists, so doing nothing. Use replace=True to re-download the data.\n",
      "\tReprojected file available locally, skipping reprojection...\n",
      "\tSplit-opt.\n",
      "\t\t05/11/2020 22:29:15 | Optimising S2_percentile_UTM_210-0000023296-0000000000_wm_I.tif\n",
      "\t\t05/11/2020 22:29:28 | Optimising S2_percentile_UTM_149-0000000000-0000023296_wm_R.tif\n",
      "\t\t05/11/2020 22:29:36 | Optimising S2_percentile_UTM_149-0000046592-0000023296_wm_I.tif\n",
      "\t\t05/11/2020 22:29:38 | Optimising S2_percentile_UTM_210-0000046592-0000023296_wm_R.tif\n",
      "05/11/2020 22:29:49 | Working on Tile 29V - File: S2_percentile_UTM_148-0000000000-0000023296.tif\n",
      "Replace is False and data exists, so doing nothing. Use replace=True to re-download the data.\n",
      "\tReprojected file available locally, skipping reprojection...\n",
      "\tSplit-opt.\n",
      "\t\t05/11/2020 22:30:13 | Optimising S2_percentile_UTM_148-0000046592-0000023296_wm_G.tif\n",
      "05/11/2020 22:30:27 | Working on Tile 30U - File: S2_percentile_UTM_209-0000000000-0000023296.tif\n",
      "Replace is False and data exists, so doing nothing. Use replace=True to re-download the data.\n",
      "\tReprojected file available locally, skipping reprojection...\n",
      "\tSplit-opt.\n",
      "\t\t05/11/2020 22:30:27 | Optimising S2_percentile_UTM_149-0000000000-0000023296_wm_G.tif\n",
      "\t\t05/11/2020 22:30:33 | Optimising S2_percentile_UTM_148-0000000000-0000023296_wm_R.tif\n",
      "\t\t05/11/2020 22:30:55 | Optimising S2_percentile_UTM_209-0000046592-0000023296_wm_R.tif\n",
      "05/11/2020 22:31:03 | Working on Tile 30V - File: S2_percentile_UTM_149-0000046592-0000000000.tif\n",
      "Replace is False and data exists, so doing nothing. Use replace=True to re-download the data.\n",
      "\tReprojected file available locally, skipping reprojection...\n",
      "\tSplit-opt.\n",
      "\t\t05/11/2020 22:31:22 | Optimising S2_percentile_UTM_148-0000000000-0000023296_wm_G.tif\n",
      "\t\t05/11/2020 22:31:26 | Optimising S2_percentile_UTM_210-0000046592-0000023296_wm_G.tif\n",
      "\t\t05/11/2020 22:31:42 | Optimising S2_percentile_UTM_149-0000000000-0000023296_wm_B.tif\n",
      "\t\t05/11/2020 22:31:46 | Optimising S2_percentile_UTM_148-0000046592-0000023296_wm_B.tif\n",
      "\t\t05/11/2020 22:32:01 | Optimising S2_percentile_UTM_209-0000000000-0000023296_wm_R.tif\n",
      "\t\t05/11/2020 22:32:14 | Optimising S2_percentile_UTM_148-0000000000-0000023296_wm_B.tif\n",
      "05/11/2020 22:32:25 | Working on Tile 31U - File: S2_percentile_UTM_210-0000000000-0000023296.tif\n",
      "Replace is False and data exists, so doing nothing. Use replace=True to re-download the data.\n",
      "\tReprojected file available locally, skipping reprojection...\n",
      "\tSplit-opt.\n",
      "\t\t05/11/2020 22:32:31 | Optimising S2_percentile_UTM_209-0000046592-0000023296_wm_G.tif\n",
      "\t\t05/11/2020 22:32:40 | Optimising S2_percentile_UTM_149-0000000000-0000023296_wm_I.tif\n",
      "\t\t05/11/2020 22:32:57 | Optimising S2_percentile_UTM_149-0000046592-0000000000_wm_R.tif\n",
      "\t\t05/11/2020 22:33:03 | Optimising S2_percentile_UTM_148-0000000000-0000023296_wm_I.tif\n",
      "\t\t05/11/2020 22:33:16 | Optimising S2_percentile_UTM_148-0000046592-0000023296_wm_I.tif\n",
      "\t\t05/11/2020 22:33:29 | Optimising S2_percentile_UTM_210-0000046592-0000023296_wm_B.tif\n",
      "05/11/2020 22:33:43 | Working on Tile 30V - File: S2_percentile_UTM_149-0000000000-0000000000.tif\n",
      "Replace is False and data exists, so doing nothing. Use replace=True to re-download the data.\n",
      "\tReprojected file available locally, skipping reprojection...\n",
      "\tSplit-opt.\n",
      "\t\t05/11/2020 22:33:50 | Optimising S2_percentile_UTM_209-0000000000-0000023296_wm_G.tif\n",
      "\t\t05/11/2020 22:33:50 | Optimising S2_percentile_UTM_210-0000000000-0000023296_wm_R.tif\n",
      "05/11/2020 22:33:51 | Working on Tile 29V - File: S2_percentile_UTM_148-0000000000-0000000000.tif\n",
      "Replace is False and data exists, so doing nothing. Use replace=True to re-download the data.\n",
      "\tReprojected file available locally, skipping reprojection...\n",
      "\tSplit-opt.\n",
      "\t\t05/11/2020 22:34:42 | Optimising S2_percentile_UTM_149-0000000000-0000000000_wm_R.tif\n",
      "\t\t05/11/2020 22:34:44 | Optimising S2_percentile_UTM_209-0000046592-0000023296_wm_B.tif\n",
      "05/11/2020 22:35:08 | Working on Tile 29V - File: S2_percentile_UTM_148-0000046592-0000000000.tif\n",
      "Replace is False and data exists, so doing nothing. Use replace=True to re-download the data.\n",
      "\tReprojected file available locally, skipping reprojection...\n",
      "\tSplit-opt.\n",
      "\t\t05/11/2020 22:35:18 | Optimising S2_percentile_UTM_148-0000000000-0000000000_wm_R.tif\n",
      "\t\t05/11/2020 22:35:50 | Optimising S2_percentile_UTM_149-0000000000-0000000000_wm_G.tif\n",
      "\t\t05/11/2020 22:35:51 | Optimising S2_percentile_UTM_210-0000046592-0000023296_wm_I.tif\n",
      "\t\t05/11/2020 22:35:52 | Optimising S2_percentile_UTM_209-0000000000-0000023296_wm_B.tif\n",
      "\t\t05/11/2020 22:35:57 | Optimising S2_percentile_UTM_149-0000046592-0000000000_wm_G.tif\n",
      "\t\t05/11/2020 22:36:24 | Optimising S2_percentile_UTM_210-0000000000-0000023296_wm_G.tif\n",
      "\t\t05/11/2020 22:36:36 | Optimising S2_percentile_UTM_148-0000000000-0000000000_wm_G.tif\n",
      "\t\t05/11/2020 22:36:57 | Optimising S2_percentile_UTM_149-0000000000-0000000000_wm_B.tif\n",
      "\t\t05/11/2020 22:36:58 | Optimising S2_percentile_UTM_209-0000046592-0000023296_wm_I.tif\n",
      "\t\t05/11/2020 22:37:04 | Optimising S2_percentile_UTM_148-0000046592-0000000000_wm_R.tif\n",
      "05/11/2020 22:37:42 | Working on Tile 31U - File: S2_percentile_UTM_210-0000046592-0000000000.tif\n",
      "Replace is False and data exists, so doing nothing. Use replace=True to re-download the data.\n",
      "\tReprojected file available locally, skipping reprojection...\n",
      "\tSplit-opt.\n",
      "\t\t05/11/2020 22:38:15 | Optimising S2_percentile_UTM_209-0000000000-0000023296_wm_I.tif\n",
      "\t\t05/11/2020 22:38:18 | Optimising S2_percentile_UTM_149-0000046592-0000000000_wm_B.tif\n",
      "\t\t05/11/2020 22:38:19 | Optimising S2_percentile_UTM_149-0000000000-0000000000_wm_I.tif\n",
      "05/11/2020 22:38:31 | Working on Tile 30U - File: S2_percentile_UTM_209-0000046592-0000000000.tif\n",
      "Replace is False and data exists, so doing nothing. Use replace=True to re-download the data.\n",
      "\tReprojected file available locally, skipping reprojection...\n",
      "\tSplit-opt.\n",
      "\t\t05/11/2020 22:38:45 | Optimising S2_percentile_UTM_210-0000000000-0000023296_wm_B.tif\n",
      "\t\t05/11/2020 22:38:49 | Optimising S2_percentile_UTM_148-0000000000-0000000000_wm_B.tif\n",
      "05/11/2020 22:39:19 | Working on Tile 30U - File: S2_percentile_UTM_209-0000000000-0000000000.tif\n",
      "Replace is False and data exists, so doing nothing. Use replace=True to re-download the data.\n",
      "\tReprojected file available locally, skipping reprojection...\n",
      "\tSplit-opt.\n",
      "\t\t05/11/2020 22:39:24 | Optimising S2_percentile_UTM_210-0000046592-0000000000_wm_R.tif\n",
      "\t\t05/11/2020 22:40:11 | Optimising S2_percentile_UTM_148-0000046592-0000000000_wm_G.tif\n",
      "\t\t05/11/2020 22:40:20 | Optimising S2_percentile_UTM_209-0000046592-0000000000_wm_R.tif\n",
      "\t\t05/11/2020 22:40:28 | Optimising S2_percentile_UTM_149-0000046592-0000000000_wm_I.tif\n",
      "\t\t05/11/2020 22:40:48 | Optimising S2_percentile_UTM_148-0000000000-0000000000_wm_I.tif\n",
      "\t\t05/11/2020 22:41:04 | Optimising S2_percentile_UTM_209-0000000000-0000000000_wm_R.tif\n",
      "\t\t05/11/2020 22:41:04 | Optimising S2_percentile_UTM_210-0000000000-0000023296_wm_I.tif\n",
      "\t\t05/11/2020 22:41:23 | Optimising S2_percentile_UTM_210-0000046592-0000000000_wm_G.tif\n",
      "\t\t05/11/2020 22:42:22 | Optimising S2_percentile_UTM_209-0000046592-0000000000_wm_G.tif\n",
      "\t\t05/11/2020 22:42:49 | Optimising S2_percentile_UTM_148-0000046592-0000000000_wm_B.tif\t\t05/11/2020 22:42:49 | Optimising S2_percentile_UTM_209-0000000000-0000000000_wm_G.tif\n",
      "\n",
      "05/11/2020 22:43:07 | Working on Tile 31U - File: S2_percentile_UTM_210-0000000000-0000000000.tif\n",
      "Replace is False and data exists, so doing nothing. Use replace=True to re-download the data.\n",
      "\tReprojected file available locally, skipping reprojection...\n",
      "\tSplit-opt.\n",
      "\t\t05/11/2020 22:43:35 | Optimising S2_percentile_UTM_210-0000046592-0000000000_wm_B.tif\n",
      "\t\t05/11/2020 22:43:55 | Optimising S2_percentile_UTM_209-0000046592-0000000000_wm_B.tif\n",
      "\t\t05/11/2020 22:44:15 | Optimising S2_percentile_UTM_209-0000000000-0000000000_wm_B.tif\n",
      "\t\t05/11/2020 22:44:20 | Optimising S2_percentile_UTM_210-0000000000-0000000000_wm_R.tif\n",
      "\t\t05/11/2020 22:44:49 | Optimising S2_percentile_UTM_148-0000046592-0000000000_wm_I.tif\n",
      "\t\t05/11/2020 22:44:58 | Optimising S2_percentile_UTM_210-0000046592-0000000000_wm_I.tif\n",
      "\t\t05/11/2020 22:45:34 | Optimising S2_percentile_UTM_209-0000046592-0000000000_wm_I.tif\n",
      "\t\t05/11/2020 22:45:41 | Optimising S2_percentile_UTM_209-0000000000-0000000000_wm_I.tif\n",
      "\t\t05/11/2020 22:46:04 | Optimising S2_percentile_UTM_210-0000000000-0000000000_wm_G.tif\n",
      "\t\t05/11/2020 22:47:12 | Optimising S2_percentile_UTM_210-0000000000-0000000000_wm_B.tif\n",
      "\t\t05/11/2020 22:48:08 | Optimising S2_percentile_UTM_210-0000000000-0000000000_wm_I.tif\n"
     ]
    }
   ],
   "source": [
    "# Ship `meta` to Dask\n",
    "dmeta = dd.from_pandas(meta[[\"dst_path\", \"UTMtile\", \"URL\"]],\n",
    "                       npartitions=10\n",
    "                      )\n",
    "# Apply in parallel\n",
    "dout = dmeta.apply(utils.process_scene, \n",
    "                   axis=1,\n",
    "                   meta=(\"Output\", None),\n",
    "                   progressbar=False,\n",
    "                   remove_intermediate=False,\n",
    "                  )\n",
    "_ = dout.compute()"
   ]
  },
  {
   "cell_type": "markdown",
   "metadata": {},
   "source": [
    "### Generate `.vrt` file\n",
    "\n",
    "**NOTE** - The command below does not seem to work from the notebook. If you run the equivalent from the terminal without backtracking folders (`../`) it should work."
   ]
  },
  {
   "cell_type": "code",
   "execution_count": null,
   "metadata": {},
   "outputs": [],
   "source": [
    "! gdalbuildvrt $local_dir\"GHS-composite-S2.vrt\" $local_dir\"S2_percentile_UTM_*_osgb.tif\""
   ]
  }
 ],
 "metadata": {
  "kernelspec": {
   "display_name": "Python 3",
   "language": "python",
   "name": "python3"
  },
  "language_info": {
   "codemirror_mode": {
    "name": "ipython",
    "version": 3
   },
   "file_extension": ".py",
   "mimetype": "text/x-python",
   "name": "python",
   "nbconvert_exporter": "python",
   "pygments_lexer": "ipython3",
   "version": "3.8.6"
  }
 },
 "nbformat": 4,
 "nbformat_minor": 4
}
