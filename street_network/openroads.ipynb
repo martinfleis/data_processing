{
 "cells": [
  {
   "cell_type": "markdown",
   "metadata": {},
   "source": [
    "# Retrieve OpenRoads from OS API\n",
    "\n",
    "Dowload OpenRoads from OS API, save zip, open it in GeoPandas and save. Now to parquet, then to PostGIS."
   ]
  },
  {
   "cell_type": "code",
   "execution_count": 42,
   "metadata": {},
   "outputs": [],
   "source": [
    "import requests\n",
    "import geopandas as gpd"
   ]
  },
  {
   "cell_type": "code",
   "execution_count": 43,
   "metadata": {},
   "outputs": [
    {
     "output_type": "execute_result",
     "data": {
      "text/plain": "[{'id': '250kScaleColourRaster',\n  'name': '1:250 000 Scale Colour Raster™',\n  'description': 'Get the regional view of towns and villages, roads and places of interest.',\n  'version': '2020-06',\n  'url': 'https://api.os.uk/downloads/v1/products/250kScaleColourRaster'},\n {'id': 'BoundaryLine',\n  'name': 'Boundary-Line™',\n  'description': 'From Euro constituencies to council wards, Boundary-Line™ maps every administrative boundary in detail for you.',\n  'version': '2020-05',\n  'url': 'https://api.os.uk/downloads/v1/products/BoundaryLine'},\n {'id': 'CodePointOpen',\n  'name': 'Code-Point® Open',\n  'description': 'Get started with geographical analysis, simple route planning and asset management.',\n  'version': '2020-05',\n  'url': 'https://api.os.uk/downloads/v1/products/CodePointOpen'},\n {'id': 'GBOverviewMaps',\n  'name': 'GB Overview Maps',\n  'description': 'Our simplest maps of the British Isles.',\n  'version': '2014-11',\n  'url': 'https://api.os.uk/downloads/v1/products/GBOverviewMaps'},\n {'id': 'LIDS',\n  'name': 'OS Open Linked Identifiers',\n  'description': 'A comprehensive dataset of cross-referenced identifiers, between various OS data products.',\n  'version': '2020-06',\n  'url': 'https://api.os.uk/downloads/v1/products/LIDS'},\n {'id': 'MiniScale',\n  'name': 'MiniScale®',\n  'description': 'A simple overview map of Great Britain.',\n  'version': '2020-01',\n  'url': 'https://api.os.uk/downloads/v1/products/MiniScale'},\n {'id': 'OpenGreenspace',\n  'name': 'OS Open Greenspace',\n  'description': 'Covering a range of greenspaces in urban and rural areas including playing fields, sports’ facilities, play areas and allotments.',\n  'version': '2020-04',\n  'url': 'https://api.os.uk/downloads/v1/products/OpenGreenspace'},\n {'id': 'OpenMapLocal',\n  'name': 'OS OpenMap - Local',\n  'description': 'Map, visualise and truly understand your data at street level.',\n  'version': '2020-04',\n  'url': 'https://api.os.uk/downloads/v1/products/OpenMapLocal'},\n {'id': 'OpenNames',\n  'name': 'OS Open Names',\n  'description': 'A comprehensive dataset of place names, roads numbers and postcodes for Great Britain.',\n  'version': '2020-07',\n  'url': 'https://api.os.uk/downloads/v1/products/OpenNames'},\n {'id': 'OpenRivers',\n  'name': 'OS Open Rivers',\n  'description': 'Understand how watercourses in Great Britain join up.',\n  'version': '2020-04',\n  'url': 'https://api.os.uk/downloads/v1/products/OpenRivers'},\n {'id': 'OpenRoads',\n  'name': 'OS Open Roads',\n  'description': 'Get a high-level view of the road network, from motorways to country lanes.',\n  'version': '2020-04',\n  'url': 'https://api.os.uk/downloads/v1/products/OpenRoads'},\n {'id': 'OpenTOID',\n  'name': 'OS Open TOID',\n  'description': 'An open dataset providing access to a generalised location to key features found in OS MasterMap premium products enabling visualisation of third party data linked to their respective TOID identifier.',\n  'version': '2020-06',\n  'url': 'https://api.os.uk/downloads/v1/products/OpenTOID'},\n {'id': 'OpenUPRN',\n  'name': 'OS Open UPRN',\n  'description': 'An open dataset containing all the Unique Property Reference Numbers (UPRNs) found in AddressBase Premium, with their respective geometries in British National Grid and Latitude, Longitude.',\n  'version': '2020-06',\n  'url': 'https://api.os.uk/downloads/v1/products/OpenUPRN'},\n {'id': 'OpenUSRN',\n  'name': 'OS Open USRN',\n  'description': 'An open dataset of all Unique Street Reference Numbers (USRNs) within OS MasterMap Highways Network, with an associated simplified line geometry representing the geographic extent of each USRN.',\n  'version': '2020-07',\n  'url': 'https://api.os.uk/downloads/v1/products/OpenUSRN'},\n {'id': 'OpenZoomstack',\n  'name': 'OS Open Zoomstack',\n  'description': 'A comprehensive basemap of Great Britain showing coverage from national level right down to street detail.',\n  'version': '2020-06',\n  'url': 'https://api.os.uk/downloads/v1/products/OpenZoomstack'},\n {'id': 'Strategi',\n  'name': 'Strategi®',\n  'description': 'A regional vector map dataset, railways, airports, rivers, villages, woods, land use and place names.',\n  'version': '2016-01',\n  'url': 'https://api.os.uk/downloads/v1/products/Strategi'},\n {'id': 'Terrain50',\n  'name': 'OS Terrain® 50',\n  'description': 'Visualise simple landscapes in 3D and bring your geographic analysis to life.',\n  'version': '2019-07',\n  'url': 'https://api.os.uk/downloads/v1/products/Terrain50'},\n {'id': 'VectorMapDistrict',\n  'name': 'OS VectorMap® District',\n  'description': 'Get started with geographical analysis, simple route planning and asset management.',\n  'version': '2020-05',\n  'url': 'https://api.os.uk/downloads/v1/products/VectorMapDistrict'}]"
     },
     "metadata": {},
     "execution_count": 43
    }
   ],
   "source": [
    "response = requests.get('https://api.os.uk/downloads/v1/products')\n",
    "json = response.json()\n",
    "json"
   ]
  },
  {
   "cell_type": "code",
   "execution_count": 47,
   "metadata": {
    "tags": []
   },
   "outputs": [],
   "source": [
    "for product in json:\n",
    "    if product['id'] == 'OpenRoads':\n",
    "        url = product['url']\n"
   ]
  },
  {
   "cell_type": "code",
   "execution_count": 48,
   "metadata": {},
   "outputs": [
    {
     "output_type": "execute_result",
     "data": {
      "text/plain": "{'id': 'OpenRoads',\n 'name': 'OS Open Roads',\n 'description': 'Get a high-level view of the road network, from motorways to country lanes.',\n 'version': '2020-04',\n 'documentationUrl': 'https://www.ordnancesurvey.co.uk/business-government/products/open-map-roads',\n 'dataStructures': ['Vector'],\n 'category': 'Networks',\n 'formats': [{'format': 'ESRI® Shapefile'},\n  {'format': 'GML', 'subformat': '3'},\n  {'format': 'GeoPackage'}],\n 'url': 'https://api.os.uk/downloads/v1/products/OpenRoads',\n 'imageCount': 3,\n 'imageTemplate': 'https://api.os.uk/downloads/v1/products/OpenRoads/images/{index}',\n 'downloadsUrl': 'https://api.os.uk/downloads/v1/products/OpenRoads/downloads',\n 'areas': ['GB']}"
     },
     "metadata": {},
     "execution_count": 48
    }
   ],
   "source": [
    "roads = requests.get(url)\n",
    "roads_json = roads.json()\n",
    "roads_json"
   ]
  },
  {
   "cell_type": "code",
   "execution_count": 49,
   "metadata": {},
   "outputs": [
    {
     "output_type": "execute_result",
     "data": {
      "text/plain": "[{'md5': '60286049CB76C9D6364F0FE87090202C',\n  'size': 541236838,\n  'url': 'https://api.os.uk/downloads/v1/products/OpenRoads/downloads?area=GB&format=ESRI%C2%AE+Shapefile&redirect',\n  'format': 'ESRI® Shapefile',\n  'area': 'GB',\n  'fileName': 'oproad_essh_gb.zip'},\n {'md5': '84E66CAFCEA9DD695A68540DE9379D4C',\n  'size': 542188036,\n  'url': 'https://api.os.uk/downloads/v1/products/OpenRoads/downloads?area=GB&format=GML&subformat=3&redirect',\n  'format': 'GML',\n  'subformat': '3',\n  'area': 'GB',\n  'fileName': 'oproad_gml3_gb.zip'},\n {'md5': 'E1FC93742CAAE7EF70C675749077AB42',\n  'size': 931331115,\n  'url': 'https://api.os.uk/downloads/v1/products/OpenRoads/downloads?area=GB&format=GeoPackage&redirect',\n  'format': 'GeoPackage',\n  'area': 'GB',\n  'fileName': 'oproad_gpkg_gb.zip'}]"
     },
     "metadata": {},
     "execution_count": 49
    }
   ],
   "source": [
    "download = requests.get(roads_json['downloadsUrl'])\n",
    "download_json = download.json()\n",
    "download_json"
   ]
  },
  {
   "cell_type": "code",
   "execution_count": 50,
   "metadata": {},
   "outputs": [],
   "source": [
    "for fileformat in download_json:\n",
    "    if fileformat['format'] == 'GeoPackage':\n",
    "        with open(fileformat['fileName'], \"wb\") as down:\n",
    "            down.write(requests.get(fileformat['url']).content)\n",
    "            down.close()"
   ]
  },
  {
   "cell_type": "code",
   "execution_count": 51,
   "metadata": {},
   "outputs": [],
   "source": [
    "import zipfile"
   ]
  },
  {
   "cell_type": "code",
   "execution_count": 52,
   "metadata": {},
   "outputs": [],
   "source": [
    "gpkg = zipfile.ZipFile(fileformat['fileName'])"
   ]
  },
  {
   "cell_type": "code",
   "execution_count": 53,
   "metadata": {},
   "outputs": [
    {
     "output_type": "execute_result",
     "data": {
      "text/plain": "['readme.txt', 'data/oproad_gb.gpkg', 'doc/licence.txt']"
     },
     "metadata": {},
     "execution_count": 53
    }
   ],
   "source": [
    "gpkg.namelist()"
   ]
  },
  {
   "cell_type": "code",
   "execution_count": 54,
   "metadata": {},
   "outputs": [],
   "source": [
    "gdf = gpd.read_file('zip://' + fileformat['fileName'] + '!' + gpkg.namelist()[1])"
   ]
  },
  {
   "cell_type": "code",
   "execution_count": 55,
   "metadata": {},
   "outputs": [
    {
     "output_type": "execute_result",
     "data": {
      "text/plain": "                                       id  \\\n0  id04AE862E-2A92-41BC-BBE0-6AF05DDDE57E   \n1  idDF59D6BB-3E5C-4BFA-91E9-81FAFB70D79C   \n2  id92D440D3-B707-45F8-8173-E7EE22663573   \n3  id7AA3E18E-21A4-4FD4-B308-EA0B3EA67046   \n4  idB9590DD5-48C1-47F6-9B1A-044C454CCB00   \n\n                                  endNode  \\\n0  idD6A4C11F-3E69-4E22-9711-2DE393FCF0A2   \n1  idE7211001-42DF-416C-9304-D39F9F66D4A6   \n2  idCB2E6127-8894-4372-8B1A-D8EECC2B6F8C   \n3  id1CC69224-6F4C-4706-A658-2175240DE21A   \n4  id63BA7519-6915-4553-BEA5-AF9C57EF73A5   \n\n                                startNode roadNumberTOID  \\\n0  idF4241DAB-6DC5-4C0E-90FA-161BF2270663           None   \n1  id8F2F6CFE-2E3D-4CA3-AD41-124E098F7197           None   \n2  id9404ED22-2647-483C-81B6-C294CF3B8712           None   \n3  id63BA7519-6915-4553-BEA5-AF9C57EF73A5           None   \n4  idE7211001-42DF-416C-9304-D39F9F66D4A6           None   \n\n           roadNameTOID  fictitious roadClassification  \\\n0                  None       False            Unknown   \n1                  None       False            Unknown   \n2                  None       False            Unknown   \n3                  None       False            Unknown   \n4  osgb4000000003210673       False            Unknown   \n\n                   roadFunction           formOfWay  length  ...   loop  \\\n0                    Minor Road  Single Carriageway     500  ...  False   \n1                    Minor Road  Single Carriageway     525  ...  False   \n2                    Minor Road  Single Carriageway     338  ...  False   \n3  Restricted Local Access Road  Single Carriageway      99  ...  False   \n4                    Minor Road  Single Carriageway     104  ...  False   \n\n   primaryRoute  trunkRoad  roadClassificationNumber       name1 name1_lang  \\\n0         False      False                      None        None       None   \n1         False      False                      None        None       None   \n2         False      False                      None        None       None   \n3         False      False                      None        None       None   \n4         False      False                      None  Beach Road       None   \n\n  name2 name2_lang roadStructure  \\\n0  None       None          None   \n1  None       None          None   \n2  None       None          None   \n3  None       None          None   \n4  None       None          None   \n\n                                            geometry  \n0  LINESTRING (463181.000 1212313.000, 463361.630...  \n1  LINESTRING (464759.470 1212349.740, 464729.000...  \n2  LINESTRING (463644.000 1212504.000, 463805.030...  \n3  LINESTRING (464193.000 1212455.000, 464217.080...  \n4  LINESTRING (464287.780 1212496.830, 464240.390...  \n\n[5 rows x 21 columns]",
      "text/html": "<div>\n<style scoped>\n    .dataframe tbody tr th:only-of-type {\n        vertical-align: middle;\n    }\n\n    .dataframe tbody tr th {\n        vertical-align: top;\n    }\n\n    .dataframe thead th {\n        text-align: right;\n    }\n</style>\n<table border=\"1\" class=\"dataframe\">\n  <thead>\n    <tr style=\"text-align: right;\">\n      <th></th>\n      <th>id</th>\n      <th>endNode</th>\n      <th>startNode</th>\n      <th>roadNumberTOID</th>\n      <th>roadNameTOID</th>\n      <th>fictitious</th>\n      <th>roadClassification</th>\n      <th>roadFunction</th>\n      <th>formOfWay</th>\n      <th>length</th>\n      <th>...</th>\n      <th>loop</th>\n      <th>primaryRoute</th>\n      <th>trunkRoad</th>\n      <th>roadClassificationNumber</th>\n      <th>name1</th>\n      <th>name1_lang</th>\n      <th>name2</th>\n      <th>name2_lang</th>\n      <th>roadStructure</th>\n      <th>geometry</th>\n    </tr>\n  </thead>\n  <tbody>\n    <tr>\n      <th>0</th>\n      <td>id04AE862E-2A92-41BC-BBE0-6AF05DDDE57E</td>\n      <td>idD6A4C11F-3E69-4E22-9711-2DE393FCF0A2</td>\n      <td>idF4241DAB-6DC5-4C0E-90FA-161BF2270663</td>\n      <td>None</td>\n      <td>None</td>\n      <td>False</td>\n      <td>Unknown</td>\n      <td>Minor Road</td>\n      <td>Single Carriageway</td>\n      <td>500</td>\n      <td>...</td>\n      <td>False</td>\n      <td>False</td>\n      <td>False</td>\n      <td>None</td>\n      <td>None</td>\n      <td>None</td>\n      <td>None</td>\n      <td>None</td>\n      <td>None</td>\n      <td>LINESTRING (463181.000 1212313.000, 463361.630...</td>\n    </tr>\n    <tr>\n      <th>1</th>\n      <td>idDF59D6BB-3E5C-4BFA-91E9-81FAFB70D79C</td>\n      <td>idE7211001-42DF-416C-9304-D39F9F66D4A6</td>\n      <td>id8F2F6CFE-2E3D-4CA3-AD41-124E098F7197</td>\n      <td>None</td>\n      <td>None</td>\n      <td>False</td>\n      <td>Unknown</td>\n      <td>Minor Road</td>\n      <td>Single Carriageway</td>\n      <td>525</td>\n      <td>...</td>\n      <td>False</td>\n      <td>False</td>\n      <td>False</td>\n      <td>None</td>\n      <td>None</td>\n      <td>None</td>\n      <td>None</td>\n      <td>None</td>\n      <td>None</td>\n      <td>LINESTRING (464759.470 1212349.740, 464729.000...</td>\n    </tr>\n    <tr>\n      <th>2</th>\n      <td>id92D440D3-B707-45F8-8173-E7EE22663573</td>\n      <td>idCB2E6127-8894-4372-8B1A-D8EECC2B6F8C</td>\n      <td>id9404ED22-2647-483C-81B6-C294CF3B8712</td>\n      <td>None</td>\n      <td>None</td>\n      <td>False</td>\n      <td>Unknown</td>\n      <td>Minor Road</td>\n      <td>Single Carriageway</td>\n      <td>338</td>\n      <td>...</td>\n      <td>False</td>\n      <td>False</td>\n      <td>False</td>\n      <td>None</td>\n      <td>None</td>\n      <td>None</td>\n      <td>None</td>\n      <td>None</td>\n      <td>None</td>\n      <td>LINESTRING (463644.000 1212504.000, 463805.030...</td>\n    </tr>\n    <tr>\n      <th>3</th>\n      <td>id7AA3E18E-21A4-4FD4-B308-EA0B3EA67046</td>\n      <td>id1CC69224-6F4C-4706-A658-2175240DE21A</td>\n      <td>id63BA7519-6915-4553-BEA5-AF9C57EF73A5</td>\n      <td>None</td>\n      <td>None</td>\n      <td>False</td>\n      <td>Unknown</td>\n      <td>Restricted Local Access Road</td>\n      <td>Single Carriageway</td>\n      <td>99</td>\n      <td>...</td>\n      <td>False</td>\n      <td>False</td>\n      <td>False</td>\n      <td>None</td>\n      <td>None</td>\n      <td>None</td>\n      <td>None</td>\n      <td>None</td>\n      <td>None</td>\n      <td>LINESTRING (464193.000 1212455.000, 464217.080...</td>\n    </tr>\n    <tr>\n      <th>4</th>\n      <td>idB9590DD5-48C1-47F6-9B1A-044C454CCB00</td>\n      <td>id63BA7519-6915-4553-BEA5-AF9C57EF73A5</td>\n      <td>idE7211001-42DF-416C-9304-D39F9F66D4A6</td>\n      <td>None</td>\n      <td>osgb4000000003210673</td>\n      <td>False</td>\n      <td>Unknown</td>\n      <td>Minor Road</td>\n      <td>Single Carriageway</td>\n      <td>104</td>\n      <td>...</td>\n      <td>False</td>\n      <td>False</td>\n      <td>False</td>\n      <td>None</td>\n      <td>Beach Road</td>\n      <td>None</td>\n      <td>None</td>\n      <td>None</td>\n      <td>None</td>\n      <td>LINESTRING (464287.780 1212496.830, 464240.390...</td>\n    </tr>\n  </tbody>\n</table>\n<p>5 rows × 21 columns</p>\n</div>"
     },
     "metadata": {},
     "execution_count": 55
    }
   ],
   "source": [
    "gdf.head()"
   ]
  },
  {
   "cell_type": "code",
   "execution_count": 56,
   "metadata": {},
   "outputs": [
    {
     "output_type": "execute_result",
     "data": {
      "text/plain": "{'Collapsed Dual Carriageway',\n 'Dual Carriageway',\n 'Guided Busway',\n 'Roundabout',\n 'Shared Use Carriageway',\n 'Single Carriageway',\n 'Slip Road'}"
     },
     "metadata": {},
     "execution_count": 56
    }
   ],
   "source": [
    "set(gdf.formOfWay)"
   ]
  },
  {
   "cell_type": "code",
   "execution_count": 58,
   "metadata": {},
   "outputs": [],
   "source": [
    "gdf.to_parquet('openroads.pq')"
   ]
  },
  {
   "cell_type": "code",
   "execution_count": null,
   "metadata": {},
   "outputs": [],
   "source": []
  }
 ],
 "metadata": {
  "language_info": {
   "codemirror_mode": {
    "name": "ipython",
    "version": 3
   },
   "file_extension": ".py",
   "mimetype": "text/x-python",
   "name": "python",
   "nbconvert_exporter": "python",
   "pygments_lexer": "ipython3",
   "version": "3.8.3-final"
  },
  "orig_nbformat": 2,
  "kernelspec": {
   "name": "stable",
   "display_name": "stable"
  }
 },
 "nbformat": 4,
 "nbformat_minor": 2
}